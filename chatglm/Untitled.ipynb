{
 "cells": [
  {
   "cell_type": "code",
   "execution_count": 5,
   "id": "b89ffcd9-54c7-4061-ad03-1d6d947200db",
   "metadata": {},
   "outputs": [],
   "source": [
    "from langchain.chat_models import ChatOpenAI\n",
    "from langchain.schema import HumanMessage, SystemMessage\n",
    "from langchain.prompts.chat import ( \n",
    "    ChatPromptTemplate,\n",
    "    HumanMessagePromptTemplate,\n",
    "    SystemMessagePromptTemplate\n",
    ")\n"
   ]
  },
  {
   "cell_type": "code",
   "execution_count": 6,
   "id": "ecf83096-63fc-4d15-8451-dd16502b926f",
   "metadata": {},
   "outputs": [
    {
     "name": "stderr",
     "output_type": "stream",
     "text": [
      "/home/enio/anaconda3/envs/llm4/lib/python3.9/site-packages/langchain_core/_api/deprecation.py:117: LangChainDeprecationWarning: The class `langchain_community.chat_models.openai.ChatOpenAI` was deprecated in langchain-community 0.0.10 and will be removed in 0.2.0. An updated version of the class exists in the langchain-openai package and should be used instead. To use it run `pip install -U langchain-openai` and import as `from langchain_openai import ChatOpenAI`.\n",
      "  warn_deprecated(\n",
      "WARNING! top_p is not default parameter.\n",
      "                    top_p was transferred to model_kwargs.\n",
      "                    Please confirm that top_p is what you intended.\n",
      "WARNING! frequency_penalty is not default parameter.\n",
      "                    frequency_penalty was transferred to model_kwargs.\n",
      "                    Please confirm that frequency_penalty is what you intended.\n",
      "WARNING! presence_penalty is not default parameter.\n",
      "                    presence_penalty was transferred to model_kwargs.\n",
      "                    Please confirm that presence_penalty is what you intended.\n"
     ]
    }
   ],
   "source": [
    "chat = ChatOpenAI(model=\"gpt-3.5-turbo-1106\",\n",
    "                  temperature=1,\n",
    "                  max_tokens=4095, \n",
    "                  top_p=1,\n",
    "                  frequency_penalty=0,\n",
    "                  presence_penalty=0)"
   ]
  },
  {
   "cell_type": "code",
   "execution_count": 7,
   "id": "5bc7f524-7a0f-4274-8b5d-439567e63b33",
   "metadata": {},
   "outputs": [],
   "source": [
    "system_content =\"\"\" \n",
    "你是中国铁路专家，尤其擅长《铁路旅客运输规程》内容。\n",
    "\n",
    "接下来，你收到的都是关于《铁路旅客运输规程》的内容，你需要整理成问答格式，并生成大模型训练的内容和格式。\n",
    "\n",
    "示例输入：\n",
    "\n",
    "第四条 车票是铁路旅客运输合同的凭证，可以采取纸质形式或者电子数据形式，一般应当载明发站、到站、车次、车厢号、席别、席位号、票价、开车时间等主要信息。铁路运输企业与旅客另有约定的，按照其约定。\n",
    "\n",
    "期待结果：\n",
    "\n",
    "content:\"什么是车票？\"\n",
    "summary:\"车票是铁路旅客运输合同的凭证，可以采取纸质形式或者电子数据形式，一般应当载明发站、到站、车次、车厢号、席别、席位号、票价、开车时间等主要信息。铁路运输企业与旅客另有约定的，按照其约定。\"\n",
    "\n",
    "content:\"车票包括哪些信息？\"\n",
    "summary:\"车票包括发站、到站、车次、车厢号、席别、席位号、票价、开车时间等主要信息\"\n",
    "\"\"\""
   ]
  },
  {
   "cell_type": "code",
   "execution_count": 8,
   "id": "ce5ce515-02d1-4c62-b045-469e2d1c24e5",
   "metadata": {},
   "outputs": [],
   "source": [
    "raw_content = \"第五条 铁路运输企业应当提供方便快捷的票务服务，为旅客提供良好的旅行环境和服务设施，文明礼貌地为旅客服务，在约定期限或者合理期限内将旅客安全运输到车票载明的到站。\""
   ]
  },
  {
   "cell_type": "code",
   "execution_count": 9,
   "id": "9a582549-06db-4935-8a47-5d8b4fd5fb12",
   "metadata": {},
   "outputs": [],
   "source": [
    "messages = [\n",
    "    SystemMessage(\n",
    "        content=system_content \n",
    "    ),\n",
    "    HumanMessage(\n",
    "        content=raw_content \n",
    "    ),\n",
    "]"
   ]
  },
  {
   "cell_type": "code",
   "execution_count": 10,
   "id": "953c7918-df80-4ea3-988c-96c9ef0d3801",
   "metadata": {},
   "outputs": [
    {
     "name": "stderr",
     "output_type": "stream",
     "text": [
      "/home/enio/anaconda3/envs/llm4/lib/python3.9/site-packages/langchain_core/_api/deprecation.py:117: LangChainDeprecationWarning: The function `__call__` was deprecated in LangChain 0.1.7 and will be removed in 0.2.0. Use invoke instead.\n",
      "  warn_deprecated(\n"
     ]
    }
   ],
   "source": [
    "ai_message = chat(messages) "
   ]
  },
  {
   "cell_type": "code",
   "execution_count": 14,
   "id": "24595c4f-a995-4714-ac87-0d8d7a9b57ae",
   "metadata": {},
   "outputs": [
    {
     "data": {
      "text/plain": [
       "'content:\"铁路运输企业应当如何为旅客提供服务？\"\\nsummary:\"铁路运输企业应当提供方便快捷的票务服务，为旅客提供良好的旅行环境和服务设施，文明礼貌地为旅客服务，并在约定期限或者合理期限内将旅客安全运输到车票载明的到站。\"'"
      ]
     },
     "execution_count": 14,
     "metadata": {},
     "output_type": "execute_result"
    }
   ],
   "source": [
    "ai_message.content"
   ]
  },
  {
   "cell_type": "code",
   "execution_count": 22,
   "id": "d70acedd-5226-4e77-9433-462c9c1f6f69",
   "metadata": {},
   "outputs": [
    {
     "name": "stdout",
     "output_type": "stream",
     "text": [
      "Content: 铁路运输企业应当如何为旅客提供服务？\n",
      "Summary: 铁路运输企业应当提供方便快捷的票务服务，为旅客提供良好的旅行环境和服务设施，文明礼貌地为旅客服务，并在约定期限或者合理期限内将旅客安全运输到车票载明的到站。\n"
     ]
    }
   ],
   "source": [
    "# 原始文本\n",
    "#text = ai_message.content\n",
    "text ='content:\"铁路运输企业应当如何为旅客提供服务？\"\\nsummary:\"铁路运输企业应当提供方便快捷的票务服务，为旅客提供良好的旅行环境和服务设施，文明礼貌地为旅客服务，并在约定期限或者合理期限内将旅客安全运输到车票载明的到站。\"'\n",
    "\n",
    "# 使用换行符分割文本以区分content和summary\n",
    "parts = text.split('\\n')\n",
    "\n",
    "# 提取content和summary\n",
    "content = parts[0].split(':', 1)[1].strip('\"')\n",
    "summary = parts[1].split(':', 1)[1].strip('\"')\n",
    "\n",
    "# 打印结果以验证\n",
    "print(\"Content:\", content)\n",
    "print(\"Summary:\", summary)"
   ]
  },
  {
   "cell_type": "code",
   "execution_count": 139,
   "id": "7cab7e70-965e-49f5-8cd7-af7dc95d69a3",
   "metadata": {},
   "outputs": [
    {
     "data": {
      "text/plain": [
       "'铁路运输企业应当如何为旅客提供服务？'"
      ]
     },
     "execution_count": 139,
     "metadata": {},
     "output_type": "execute_result"
    }
   ],
   "source": [
    "parts[0].split(':', 1)[1].strip('\"')"
   ]
  },
  {
   "cell_type": "code",
   "execution_count": 24,
   "id": "5071e598-f9d1-43e2-9314-f469e44adcb7",
   "metadata": {},
   "outputs": [],
   "source": [
    "import csv \n",
    "\n",
    "# 如果没有GPT API，可以使用预定义的变量\n",
    "# content = \"蒙卦\"\n",
    "# summary = \"在周易中，师卦是一个极具深意的卦象，它由两个异卦相叠组成：下卦坎（水）和上卦坤（地）。这一卦象代表“师”，即军队，寓意着兵力和农力的结合。在这里，坎卦象征着水和险难，而坤卦象征着地和顺从，暗示着通过将军事力量安置于民间，可以在必要时顺利调动。师卦的核心哲学是：虽然兵力代表着危险和战争，但其使用应当是圣人不得已而为之的最后手段。在正确的情况下，军事力量可以顺应形势，将危险转化为吉祥。因此，在军事策略上，此卦象征着出征将会顺利，无灾祸。师卦紧随讼卦（争讼卦），在《序卦》中解释为“讼必有众起，故受之以师”。这意味着争端激化至众多人群的参与，形成了类似军队的集体力量。\"\n",
    "\n",
    "# 新建CSV文件并写入数据\n",
    "with open('./data/test_dataset.csv', mode='w', newline='', encoding='utf-8') as file:  \n",
    "    writer = csv.writer(file)\n",
    "    # 写入标题行\n",
    "    writer.writerow(['content', 'summary'])\n",
    "    # 写入数据行\n",
    "    writer.writerow([content, summary])\n"
   ]
  },
  {
   "cell_type": "code",
   "execution_count": 26,
   "id": "3c478d09-8e8e-4600-9fd0-2e47c3a4557f",
   "metadata": {},
   "outputs": [
    {
     "data": {
      "text/html": [
       "<div>\n",
       "<style scoped>\n",
       "    .dataframe tbody tr th:only-of-type {\n",
       "        vertical-align: middle;\n",
       "    }\n",
       "\n",
       "    .dataframe tbody tr th {\n",
       "        vertical-align: top;\n",
       "    }\n",
       "\n",
       "    .dataframe thead th {\n",
       "        text-align: right;\n",
       "    }\n",
       "</style>\n",
       "<table border=\"1\" class=\"dataframe\">\n",
       "  <thead>\n",
       "    <tr style=\"text-align: right;\">\n",
       "      <th></th>\n",
       "      <th>Question</th>\n",
       "      <th>Summary</th>\n",
       "    </tr>\n",
       "  </thead>\n",
       "  <tbody>\n",
       "    <tr>\n",
       "      <th>0</th>\n",
       "      <td>铁路运输企业如何服务旅客？</td>\n",
       "      <td>铁路运输企业应当提供方便快捷的票务服务，为旅客提供良好的旅行环境和服务设施，文明礼貌地为旅客...</td>\n",
       "    </tr>\n",
       "    <tr>\n",
       "      <th>1</th>\n",
       "      <td>旅客在铁路运输中应享受哪些服务？</td>\n",
       "      <td>铁路运输企业应当提供方便快捷的票务服务，为旅客提供良好的旅行环境和服务设施，文明礼貌地为旅客...</td>\n",
       "    </tr>\n",
       "    <tr>\n",
       "      <th>2</th>\n",
       "      <td>铁路公司提供什么服务来确保旅客满意？</td>\n",
       "      <td>铁路运输企业应当提供方便快捷的票务服务，为旅客提供良好的旅行环境和服务设施，文明礼貌地为旅客...</td>\n",
       "    </tr>\n",
       "    <tr>\n",
       "      <th>3</th>\n",
       "      <td>如何评价铁路运输企业对旅客的服务？</td>\n",
       "      <td>铁路运输企业应当提供方便快捷的票务服务，为旅客提供良好的旅行环境和服务设施，文明礼貌地为旅客...</td>\n",
       "    </tr>\n",
       "    <tr>\n",
       "      <th>4</th>\n",
       "      <td>铁路运输中，旅客期待哪些服务？</td>\n",
       "      <td>铁路运输企业应当提供方便快捷的票务服务，为旅客提供良好的旅行环境和服务设施，文明礼貌地为旅客...</td>\n",
       "    </tr>\n",
       "  </tbody>\n",
       "</table>\n",
       "</div>"
      ],
      "text/plain": [
       "             Question                                            Summary\n",
       "0       铁路运输企业如何服务旅客？  铁路运输企业应当提供方便快捷的票务服务，为旅客提供良好的旅行环境和服务设施，文明礼貌地为旅客...\n",
       "1    旅客在铁路运输中应享受哪些服务？  铁路运输企业应当提供方便快捷的票务服务，为旅客提供良好的旅行环境和服务设施，文明礼貌地为旅客...\n",
       "2  铁路公司提供什么服务来确保旅客满意？  铁路运输企业应当提供方便快捷的票务服务，为旅客提供良好的旅行环境和服务设施，文明礼貌地为旅客...\n",
       "3   如何评价铁路运输企业对旅客的服务？  铁路运输企业应当提供方便快捷的票务服务，为旅客提供良好的旅行环境和服务设施，文明礼貌地为旅客...\n",
       "4     铁路运输中，旅客期待哪些服务？  铁路运输企业应当提供方便快捷的票务服务，为旅客提供良好的旅行环境和服务设施，文明礼貌地为旅客..."
      ]
     },
     "execution_count": 26,
     "metadata": {},
     "output_type": "execute_result"
    }
   ],
   "source": [
    "import pandas as pd\n",
    "\n",
    "# 定义可能的提问方式\n",
    "questions = [\n",
    "    \"铁路运输企业如何服务旅客？\",\n",
    "    \"旅客在铁路运输中应享受哪些服务？\",\n",
    "    \"铁路公司提供什么服务来确保旅客满意？\",\n",
    "    \"如何评价铁路运输企业对旅客的服务？\",\n",
    "    \"铁路运输中，旅客期待哪些服务？\",\n",
    "    \"铁路服务中包含哪些旅客服务项目？\",\n",
    "    \"怎样的铁路服务能满足旅客需求？\",\n",
    "    \"铁路运输企业怎样提升旅客服务质量？\",\n",
    "    \"旅客在铁路旅行中应享受何种服务体验？\",\n",
    "    \"铁路运输对旅客有哪些服务承诺？\",\n",
    "    \"如何提高铁路运输旅客的服务满意度？\",\n",
    "    \"铁路公司如何确保旅客服务的高标准？\",\n",
    "    \"在铁路运输中，如何向旅客提供优质服务？\",\n",
    "    \"铁路旅行中旅客服务包括哪些内容？\",\n",
    "    \"铁路运输企业为旅客提供哪些便利和服务？\",\n",
    "    \"铁路旅客服务的主要内容有哪些？\",\n",
    "    \"铁路运输中旅客最期待哪些服务？\",\n",
    "    \"如何在铁路运输中改善旅客服务？\",\n",
    "    \"铁路运输企业在服务旅客方面有哪些规定？\",\n",
    "    \"铁路运输中，为旅客提供哪些基本服务？\"\n",
    "]\n",
    "\n",
    "# 定义原始的summary\n",
    "summary = \"铁路运输企业应当提供方便快捷的票务服务，为旅客提供良好的旅行环境和服务设施，文明礼貌地为旅客服务，并在约定期限或者合理期限内将旅客安全运输到车票载明的到站。\"\n",
    "\n",
    "# 创建DataFrame\n",
    "df = pd.DataFrame({\n",
    "    'Question': questions,\n",
    "    'Summary': [summary] * len(questions)\n",
    "})\n",
    "\n",
    "\n",
    "\n",
    "df.head()  # 显示前几行以验证"
   ]
  },
  {
   "cell_type": "code",
   "execution_count": 28,
   "id": "361ed5f5-1cba-4d79-90af-96cba6067e89",
   "metadata": {},
   "outputs": [],
   "source": [
    "# 写入CSV文件\n",
    "df.to_csv('./data/lvkeyunshuguicheng_dataset.csv', index=False)"
   ]
  },
  {
   "cell_type": "code",
   "execution_count": null,
   "id": "4b618597-ee6a-47d2-b37c-e51adedfbc9b",
   "metadata": {},
   "outputs": [],
   "source": [
    "messages = [\n",
    "    SystemMessage(\n",
    "        content=system_content\n",
    "    ),\n",
    "    HumanMessage(\n",
    "        content=raw_content  \n",
    "    ),\n",
    "]\n",
    "raw_content = \"第五条 铁路运输企业应当提供方便快捷的票务服务，为旅客提供良好的旅行环境和服务设施，文明礼貌地为旅客服务，在约定期限或者合理期限内将旅客安全运输到车票载明的到站。\""
   ]
  },
  {
   "cell_type": "code",
   "execution_count": 30,
   "id": "7a01f685-01a1-41f1-a43d-83c1c2af2cfa",
   "metadata": {},
   "outputs": [],
   "source": [
    "# 初始化一个空列表用于存储原始内容数据\n",
    "raw_content_data = []\n",
    "\n",
    "# 读取文件并分割数据样例\n",
    "with open('./data/lvke.txt', 'r', encoding='utf-8') as file:\n",
    "    content = file.read()\n",
    "    # 使用连续的换行符('\\n\\n')作为分隔符来分割文本\n",
    "    data_samples = content.split('\\n\\n')\n",
    "\n",
    "    # 遍历分割后的数据样例并添加到列表中\n",
    "    for sample in data_samples:\n",
    "        # 移除每个样例中的额外空白字符（如果有的话）\n",
    "        cleaned_sample = sample.strip() \n",
    "        # 仅添加非空样例\n",
    "        if cleaned_sample:\n",
    "            raw_content_data.append(cleaned_sample)"
   ]
  },
  {
   "cell_type": "code",
   "execution_count": 32,
   "id": "5b4c4984-a5da-4f58-9011-c10949f0532b",
   "metadata": {},
   "outputs": [
    {
     "name": "stdout",
     "output_type": "stream",
     "text": [
      "样例 1:\n",
      "﻿第一条 为了维护铁路旅客运输正常秩序，规范旅客和铁路运输企业的行为，保护旅客和铁路运输企业的合法权益，完善公平公正的旅客运输市场环境，根据《中华人民共和国民法典》《中华人民共和国消费者权益保护法》《中华人民共和国铁路法》《铁路安全管理条例》等法律、行政法规，制定本规程。\n",
      "------\n",
      "样例 2:\n",
      "第二条 本规程适用于中华人民共和国境内的铁路旅客运输。\n",
      "------\n",
      "样例 3:\n",
      "第三条 铁路运输企业应当根据法律、行政法规和本规程制定旅客运输相关办法，包括购票、退票、改签，旅客乘车、随身携带物品和托运行李相关规定等事项，并在实施前向社会公布。\n",
      "------\n",
      "样例 4:\n",
      "第四条 车票是铁路旅客运输合同的凭证，可以采用纸质形式或者电子数据形式，一般应当载明发站、到站、车次、车厢号、席别、席位号、票价、开车时间等主要信息。铁路运输企业与旅客另有约定的，按照其约定。\n",
      "------\n",
      "样例 5:\n",
      "第五条 铁路运输企业应当提供方便快捷的票务服务，为旅客提供良好的旅行环境和服务设施，文明礼貌地为旅客服务，在约定期限或者合理期限内将旅客安全运输到车票载明的到站。\n",
      "------\n"
     ]
    }
   ],
   "source": [
    "# 输出结果以验证\n",
    "for i, sample in enumerate(raw_content_data[:5]):  # 打印前5个样例以检查 \n",
    "    print(f\"样例 {i+1}:\")\n",
    "    print(sample)\n",
    "    print(\"------\")\n"
   ]
  },
  {
   "cell_type": "code",
   "execution_count": 39,
   "id": "48d09516-fecb-4078-896e-209d9efcbb59",
   "metadata": {},
   "outputs": [
    {
     "name": "stderr",
     "output_type": "stream",
     "text": [
      "WARNING! top_p is not default parameter.\n",
      "                    top_p was transferred to model_kwargs.\n",
      "                    Please confirm that top_p is what you intended.\n",
      "WARNING! frequency_penalty is not default parameter.\n",
      "                    frequency_penalty was transferred to model_kwargs.\n",
      "                    Please confirm that frequency_penalty is what you intended.\n",
      "WARNING! presence_penalty is not default parameter.\n",
      "                    presence_penalty was transferred to model_kwargs.\n",
      "                    Please confirm that presence_penalty is what you intended.\n"
     ]
    }
   ],
   "source": [
    "from langchain.chat_models import ChatOpenAI\n",
    "from langchain.schema import HumanMessage, SystemMessage \n",
    "from langchain.prompts.chat import (\n",
    "    ChatPromptTemplate,\n",
    "    HumanMessagePromptTemplate,\n",
    "    SystemMessagePromptTemplate\n",
    ")\n",
    "\n",
    "chat = ChatOpenAI(model=\"gpt-3.5-turbo-1106\",\n",
    "                  temperature=1,\n",
    "                  max_tokens=4095,\n",
    "                  top_p=1,\n",
    "                  frequency_penalty=0,\n",
    "                  presence_penalty=0)\n",
    "\n",
    "def gen_data(raw_content):\n",
    "    \"\"\"\n",
    "    使用LangChain GPT-3.5调用处理单个数据样例。\n",
    "\n",
    "    :param raw_content: 原始数据样例。\n",
    "    :return: GPT-3.5模型生成的内容。\n",
    "    \"\"\"\n",
    "    # 系统消息定义背景和任务\n",
    "    system_message = SystemMessage(\n",
    "        content=\"\"\"\n",
    "        你是中国铁路专家，尤其擅长《铁路旅客运输规程》内容。\n",
    "\n",
    "        接下来，你收到的都是关于《铁路旅客运输规程》的内容，你需要整理成问答格式，并生成大模型训练的内容和格式。\n",
    "        \n",
    "        示例输入：\n",
    "        \n",
    "        第四条 车票是铁路旅客运输合同的凭证，可以采取纸质形式或者电子数据形式，一般应当载明发站、到站、车次、车厢号、席别、席位号、票价、开车时间等主要信息。铁路运输企业与旅客另有约定的，按照其约定。\n",
    "        \n",
    "        期待结果：\n",
    "        \n",
    "        content:\"什么是车票？\"\n",
    "        summary:\"车票是铁路旅客运输合同的凭证，可以采取纸质形式或者电子数据形式，一般应当载明发站、到站、车次、车厢号、席别、席位号、票价、开车时间等主要信息。铁路运输企业与旅客另有约定的，按照其约定。\"\n",
    "        \n",
    "        content:\"车票包括哪些信息？\"\n",
    "        summary:\"车票包括发站、到站、车次、车厢号、席别、席位号、票价、开车时间等主要信息\"\n",
    "        \"\"\"\n",
    "    )\n",
    "\n",
    "    # 人类消息包含原始数据样例\n",
    "    human_message = HumanMessage(\n",
    "        content=raw_content\n",
    "    )\n",
    "\n",
    "    # 构建消息列表并进行模型调用\n",
    "    messages = [system_message, human_message]\n",
    "    ai_message = chat(messages)\n",
    "\n",
    "    return ai_message.content"
   ]
  },
  {
   "cell_type": "code",
   "execution_count": 68,
   "id": "cf5a5647-bc84-4631-8843-d81a3c1fa1d0",
   "metadata": {},
   "outputs": [
    {
     "name": "stdout",
     "output_type": "stream",
     "text": [
      "content:\"《铁路旅客运输规程》适用范围是什么？\"\n",
      "summary:\"本规程适用于中华人民共和国境内的铁路旅客运输。\"\n"
     ]
    }
   ],
   "source": [
    "# 示例调用（使用 raw_data.txt 中解析的数据样例）\n",
    "generated_content = gen_data(raw_content_data[1])\n",
    "print(generated_content)"
   ]
  },
  {
   "cell_type": "code",
   "execution_count": 78,
   "id": "981d1ed0-2196-45ee-952e-32de0ab4d1a1",
   "metadata": {},
   "outputs": [],
   "source": [
    "def dataset_parser(ai_message_content):\n",
    "    \"\"\"\n",
    "    解析由gen_data函数生成的ai_message.content，提取content和summary。\n",
    "\n",
    "    :param ai_message_content: gen_data函数返回的文本。 \n",
    "    :return: 提取的content和summary。\n",
    "    \"\"\"\n",
    "    # 使用换行符分割文本以区分content和summary\n",
    "    parts = ai_message_content.split('\\n')\n",
    "\n",
    "    # 提取content和summary\n",
    "    content = parts[0].split(':', 1)[1].strip('\"') \n",
    "    summary = parts[1].split(':', 1)[1].strip('\"')\n",
    "    \n",
    "\n",
    "    return content, summary\n"
   ]
  },
  {
   "cell_type": "code",
   "execution_count": 79,
   "id": "40eec865-a8b7-448d-b8de-12ead813d82c",
   "metadata": {},
   "outputs": [
    {
     "data": {
      "text/plain": [
       "'content:\"《铁路旅客运输规程》适用范围是什么？\"\\nsummary:\"本规程适用于中华人民共和国境内的铁路旅客运输。\"'"
      ]
     },
     "execution_count": 79,
     "metadata": {},
     "output_type": "execute_result"
    }
   ],
   "source": [
    "generated_content        "
   ]
  },
  {
   "cell_type": "code",
   "execution_count": 80,
   "id": "2937eb7a-1035-4c29-a662-efa59f0ecf04",
   "metadata": {},
   "outputs": [
    {
     "name": "stdout",
     "output_type": "stream",
     "text": [
      "Content: 《铁路旅客运输规程》适用范围是什么？\n",
      "Summary: 本规程适用于中华人民共和国境内的铁路旅客运输。\n"
     ]
    }
   ],
   "source": [
    "# 示例调用（使用假设的gen_data函数返回的文本）\n",
    "content1, summary1 = dataset_parser(generated_content) \n",
    "print(\"Content:\", content1)\n",
    "print(\"Summary:\", summary1)"
   ]
  },
  {
   "cell_type": "code",
   "execution_count": 124,
   "id": "fa4a7d81-5e1e-4436-be55-2480aa1f83b0",
   "metadata": {},
   "outputs": [],
   "source": [
    "def generate_question_summary_pairs(content, summary):\n",
    "    chat1 = ChatOpenAI(model=\"gpt-3.5-turbo-1106\",\n",
    "                  temperature=1,\n",
    "                  max_tokens=4095,\n",
    "                  top_p=1,\n",
    "                  frequency_penalty=0,\n",
    "                  presence_penalty=0)\n",
    "    system_content1 =\"\"\"\n",
    "        实际用户提问的时候，不会直接说“铁路运输企业应当如何为旅客提供服务？”，因此，请给出20种可能提问的方式,如\n",
    "        \"铁路运输企业如何服务旅客？\",\n",
    "        \"旅客在铁路运输中应享受哪些服务？\",\n",
    "        \"铁路公司提供什么服务来确保旅客满意？\",\n",
    "        \"如何评价铁路运输企业对旅客的服务？\",\n",
    "        \"铁路运输中，旅客期待哪些服务？\",\n",
    "        \"铁路服务中包含哪些旅客服务项目？\",\n",
    "        \"怎样的铁路服务能满足旅客需求？\",\n",
    "        \"铁路运输企业怎样提升旅客服务质量？\",\n",
    "        \"旅客在铁路旅行中应享受何种服务体验？\",\n",
    "        \"铁路运输对旅客有哪些服务承诺？\",\n",
    "        \"如何提高铁路运输旅客的服务满意度？\",\n",
    "        \"铁路公司如何确保旅客服务的高标准？\",\n",
    "        \"在铁路运输中，如何向旅客提供优质服务？\",\n",
    "        \"铁路旅行中旅客服务包括哪些内容？\",\n",
    "        \"铁路运输企业为旅客提供哪些便利和服务？\",\n",
    "        \"铁路旅客服务的主要内容有哪些？\",\n",
    "        \"铁路运输中旅客最期待哪些服务？\",\n",
    "        \"如何在铁路运输中改善旅客服务？\",\n",
    "        \"铁路运输企业在服务旅客方面有哪些规定？\",\n",
    "        \"铁路运输中，为旅客提供哪些基本服务？\"\n",
    "        写入questions列表\n",
    "        \"\"\"\n",
    "\n",
    "    messages1 = [\n",
    "        SystemMessage(\n",
    "            content=system_content1\n",
    "        ),\n",
    "        HumanMessage(\n",
    "            content=content1\n",
    "        )\n",
    "    ]\n",
    "    ai_message1 = chat1(messages1)\n",
    "\n",
    "    # Split the string into individual questions and create a list \n",
    "    questions_list = ai_message1.content.split('\\n')\n",
    "    \n",
    "    # Remove any empty strings from the list and remove the numbers at the beginning  \n",
    "    #questions_list = [question.split(' ', 1)[1].strip() for question in questions_list if question.strip()]\n",
    "    df = pd.DataFrame({\n",
    "        'Question': questions_list,\n",
    "        'Summary': [summary] * len(questions_list)\n",
    "        })\n",
    "    # 创建提问和总结的配对\n",
    "    question_summary_pairs = [(question, summary) for question in questions_list]\n",
    "    \n",
    "    return question_summary_pairs"
   ]
  },
  {
   "cell_type": "code",
   "execution_count": 51,
   "id": "5fe6c9d9-f066-4a23-a792-88d65098b240",
   "metadata": {},
   "outputs": [
    {
     "name": "stderr",
     "output_type": "stream",
     "text": [
      "WARNING! top_p is not default parameter.\n",
      "                    top_p was transferred to model_kwargs.\n",
      "                    Please confirm that top_p is what you intended.\n",
      "WARNING! frequency_penalty is not default parameter.\n",
      "                    frequency_penalty was transferred to model_kwargs.\n",
      "                    Please confirm that frequency_penalty is what you intended.\n",
      "WARNING! presence_penalty is not default parameter.\n",
      "                    presence_penalty was transferred to model_kwargs.\n",
      "                    Please confirm that presence_penalty is what you intended.\n"
     ]
    }
   ],
   "source": [
    "chat1 = ChatOpenAI(model=\"gpt-3.5-turbo-1106\",\n",
    "                  temperature=1,\n",
    "                  max_tokens=4095,\n",
    "                  top_p=1,\n",
    "                  frequency_penalty=0,\n",
    "                  presence_penalty=0)\n",
    "\n",
    "system_content1 =\"\"\"\n",
    "实际用户提问的时候，不会直接说“铁路运输企业应当如何为旅客提供服务？”，因此，请给出20种可能提问的方式,如 \n",
    "    \"铁路运输企业如何服务旅客？\",\n",
    "    \"旅客在铁路运输中应享受哪些服务？\",\n",
    "    \"铁路公司提供什么服务来确保旅客满意？\",\n",
    "    \"如何评价铁路运输企业对旅客的服务？\",\n",
    "    \"铁路运输中，旅客期待哪些服务？\",\n",
    "    \"铁路服务中包含哪些旅客服务项目？\",\n",
    "    \"怎样的铁路服务能满足旅客需求？\",\n",
    "    \"铁路运输企业怎样提升旅客服务质量？\",\n",
    "    \"旅客在铁路旅行中应享受何种服务体验？\",\n",
    "    \"铁路运输对旅客有哪些服务承诺？\",\n",
    "    \"如何提高铁路运输旅客的服务满意度？\",\n",
    "    \"铁路公司如何确保旅客服务的高标准？\",\n",
    "    \"在铁路运输中，如何向旅客提供优质服务？\",\n",
    "    \"铁路旅行中旅客服务包括哪些内容？\",\n",
    "    \"铁路运输企业为旅客提供哪些便利和服务？\",\n",
    "    \"铁路旅客服务的主要内容有哪些？\",\n",
    "    \"铁路运输中旅客最期待哪些服务？\",\n",
    "    \"如何在铁路运输中改善旅客服务？\",\n",
    "    \"铁路运输企业在服务旅客方面有哪些规定？\",\n",
    "    \"铁路运输中，为旅客提供哪些基本服务？\"\n",
    "    写入questions列表\n",
    "\"\"\"\n",
    "messages1 = [\n",
    "    SystemMessage(\n",
    "        content=system_content1\n",
    "    ),\n",
    "    HumanMessage(\n",
    "        content=content1\n",
    "    )\n",
    "]\n",
    "\n",
    "ai_message1 = chat1(messages1)\n",
    "\n",
    "# 创建DataFrame \n",
    "df = pd.DataFrame({\n",
    "    'Question': content1,\n",
    "    'Summary': [summary1] * len(content1)\n",
    "})"
   ]
  },
  {
   "cell_type": "code",
   "execution_count": 56,
   "id": "2a89b4fd-8df9-4754-8dad-34dff45404d3",
   "metadata": {},
   "outputs": [
    {
     "name": "stderr",
     "output_type": "stream",
     "text": [
      "WARNING! top_p is not default parameter.\n",
      "                    top_p was transferred to model_kwargs.\n",
      "                    Please confirm that top_p is what you intended.\n",
      "WARNING! frequency_penalty is not default parameter.\n",
      "                    frequency_penalty was transferred to model_kwargs.\n",
      "                    Please confirm that frequency_penalty is what you intended.\n",
      "WARNING! presence_penalty is not default parameter.\n",
      "                    presence_penalty was transferred to model_kwargs.\n",
      "                    Please confirm that presence_penalty is what you intended.\n"
     ]
    }
   ],
   "source": [
    "chat1 = ChatOpenAI(model=\"gpt-3.5-turbo-1106\",\n",
    "                  temperature=1,\n",
    "                  max_tokens=4095,\n",
    "                  top_p=1,\n",
    "                  frequency_penalty=0,\n",
    "                  presence_penalty=0)\n",
    "system_content1 =\"\"\" \n",
    "实际用户提问的时候，不会直接说“铁路运输企业应当如何为旅客提供服务？”，因此，请给出20种可能提问的方式,如 \n",
    "    \"铁路运输企业如何服务旅客？\",\n",
    "    \"旅客在铁路运输中应享受哪些服务？\",\n",
    "    \"铁路公司提供什么服务来确保旅客满意？\",\n",
    "    \"如何评价铁路运输企业对旅客的服务？\",\n",
    "    \"铁路运输中，旅客期待哪些服务？\",\n",
    "    \"铁路服务中包含哪些旅客服务项目？\",\n",
    "    \"怎样的铁路服务能满足旅客需求？\",\n",
    "    \"铁路运输企业怎样提升旅客服务质量？\",\n",
    "    \"旅客在铁路旅行中应享受何种服务体验？\",\n",
    "    \"铁路运输对旅客有哪些服务承诺？\",\n",
    "    \"如何提高铁路运输旅客的服务满意度？\",\n",
    "    \"铁路公司如何确保旅客服务的高标准？\",\n",
    "    \"在铁路运输中，如何向旅客提供优质服务？\",\n",
    "    \"铁路旅行中旅客服务包括哪些内容？\",\n",
    "    \"铁路运输企业为旅客提供哪些便利和服务？\",\n",
    "    \"铁路旅客服务的主要内容有哪些？\",\n",
    "    \"铁路运输中旅客最期待哪些服务？\",\n",
    "    \"如何在铁路运输中改善旅客服务？\",\n",
    "    \"铁路运输企业在服务旅客方面有哪些规定？\",\n",
    "    \"铁路运输中，为旅客提供哪些基本服务？\"\n",
    "    写入questions列表\n",
    "\"\"\""
   ]
  },
  {
   "cell_type": "code",
   "execution_count": 81,
   "id": "16f370b6-c8c3-4f02-b296-a7911794651f",
   "metadata": {},
   "outputs": [
    {
     "data": {
      "text/plain": [
       "'《铁路旅客运输规程》适用范围是什么？'"
      ]
     },
     "execution_count": 81,
     "metadata": {},
     "output_type": "execute_result"
    }
   ],
   "source": [
    "content1"
   ]
  },
  {
   "cell_type": "code",
   "execution_count": 82,
   "id": "f30b5639-b3a0-4bdf-bb34-e9ce610d67fc",
   "metadata": {},
   "outputs": [],
   "source": [
    "messages1 = [\n",
    "    SystemMessage(\n",
    "        content=system_content1\n",
    "    ),\n",
    "    HumanMessage(\n",
    "        content=content1\n",
    "    )\n",
    "]"
   ]
  },
  {
   "cell_type": "code",
   "execution_count": 83,
   "id": "96e5c239-d4c2-408a-a265-82b39a70ab5c",
   "metadata": {},
   "outputs": [],
   "source": [
    "ai_message1 = chat1(messages1) "
   ]
  },
  {
   "cell_type": "code",
   "execution_count": 113,
   "id": "0fabd776-cdc3-4609-925e-4f1c02c4f2f8",
   "metadata": {},
   "outputs": [],
   "source": [
    "# Split the string into individual questions and create a list \n",
    "questions_list = ai_message1.content.split('\\n')\n",
    "\n",
    "# Remove any empty strings from the list and remove the numbers at the beginning \n",
    "questions_list = [question.split(' ', 1)[1].strip() for question in questions_list if question.strip()]"
   ]
  },
  {
   "cell_type": "code",
   "execution_count": 115,
   "id": "e58171ac-6f60-4396-929f-29ddd3efc2c3",
   "metadata": {},
   "outputs": [
    {
     "data": {
      "text/plain": [
       "['铁路旅客运输规程适用于哪些范围？',\n",
       " '《铁路旅客运输规程》规定了哪些对象应遵守？',\n",
       " '《铁路旅客运输规程》适用于铁路运输中的哪些方面？',\n",
       " '谁需要遵守《铁路旅客运输规程》中的要求？',\n",
       " '《铁路旅客运输规程》对于哪些情况有具体规定？',\n",
       " '《铁路旅客运输规程》对于哪些铁路运输环节有规定要求？',\n",
       " '《铁路旅客运输规程》适用于铁路运输中的谁？',\n",
       " '《铁路旅客运输规程》中的规定面向谁？',\n",
       " '《铁路旅客运输规程》适用的具体对象有哪些？',\n",
       " '《铁路旅客运输规程》限制了谁的行为？',\n",
       " '《铁路旅客运输规程》规定了哪些内容？',\n",
       " '《铁路旅客运输规程》针对什么内容做了规定？',\n",
       " '谁需要遵循《铁路旅客运输规程》中的相关规定？',\n",
       " '《铁路旅客运输规程》对于谁有具体的约束作用？',\n",
       " '《铁路旅客运输规程》的约束对象是谁？',\n",
       " '《铁路旅客运输规程》的规定适用于哪些人或单位？',\n",
       " '《铁路旅客运输规程》的规定面向谁？',\n",
       " '在什么情况下需要遵守《铁路旅客运输规程》？',\n",
       " '《铁路旅客运输规程》限制了哪些主体的行为？',\n",
       " '谁受到《铁路旅客运输规程》的具体约束？']"
      ]
     },
     "execution_count": 115,
     "metadata": {},
     "output_type": "execute_result"
    }
   ],
   "source": [
    "questions_list"
   ]
  },
  {
   "cell_type": "code",
   "execution_count": 116,
   "id": "7c4e26b0-7b20-489f-b3b9-f27de92274f9",
   "metadata": {},
   "outputs": [],
   "source": [
    "# 创建DataFrame \n",
    "df = pd.DataFrame({\n",
    "    'Question': questions_list,\n",
    "    'Summary': [summary1] * len(questions_list)\n",
    "})"
   ]
  },
  {
   "cell_type": "code",
   "execution_count": 117,
   "id": "5682db72-a0df-4538-a12c-9469c837cd96",
   "metadata": {},
   "outputs": [
    {
     "data": {
      "text/html": [
       "<div>\n",
       "<style scoped>\n",
       "    .dataframe tbody tr th:only-of-type {\n",
       "        vertical-align: middle;\n",
       "    }\n",
       "\n",
       "    .dataframe tbody tr th {\n",
       "        vertical-align: top;\n",
       "    }\n",
       "\n",
       "    .dataframe thead th {\n",
       "        text-align: right;\n",
       "    }\n",
       "</style>\n",
       "<table border=\"1\" class=\"dataframe\">\n",
       "  <thead>\n",
       "    <tr style=\"text-align: right;\">\n",
       "      <th></th>\n",
       "      <th>Question</th>\n",
       "      <th>Summary</th>\n",
       "    </tr>\n",
       "  </thead>\n",
       "  <tbody>\n",
       "    <tr>\n",
       "      <th>0</th>\n",
       "      <td>铁路旅客运输规程适用于哪些范围？</td>\n",
       "      <td>本规程适用于中华人民共和国境内的铁路旅客运输。</td>\n",
       "    </tr>\n",
       "    <tr>\n",
       "      <th>1</th>\n",
       "      <td>《铁路旅客运输规程》规定了哪些对象应遵守？</td>\n",
       "      <td>本规程适用于中华人民共和国境内的铁路旅客运输。</td>\n",
       "    </tr>\n",
       "    <tr>\n",
       "      <th>2</th>\n",
       "      <td>《铁路旅客运输规程》适用于铁路运输中的哪些方面？</td>\n",
       "      <td>本规程适用于中华人民共和国境内的铁路旅客运输。</td>\n",
       "    </tr>\n",
       "    <tr>\n",
       "      <th>3</th>\n",
       "      <td>谁需要遵守《铁路旅客运输规程》中的要求？</td>\n",
       "      <td>本规程适用于中华人民共和国境内的铁路旅客运输。</td>\n",
       "    </tr>\n",
       "    <tr>\n",
       "      <th>4</th>\n",
       "      <td>《铁路旅客运输规程》对于哪些情况有具体规定？</td>\n",
       "      <td>本规程适用于中华人民共和国境内的铁路旅客运输。</td>\n",
       "    </tr>\n",
       "    <tr>\n",
       "      <th>5</th>\n",
       "      <td>《铁路旅客运输规程》对于哪些铁路运输环节有规定要求？</td>\n",
       "      <td>本规程适用于中华人民共和国境内的铁路旅客运输。</td>\n",
       "    </tr>\n",
       "    <tr>\n",
       "      <th>6</th>\n",
       "      <td>《铁路旅客运输规程》适用于铁路运输中的谁？</td>\n",
       "      <td>本规程适用于中华人民共和国境内的铁路旅客运输。</td>\n",
       "    </tr>\n",
       "    <tr>\n",
       "      <th>7</th>\n",
       "      <td>《铁路旅客运输规程》中的规定面向谁？</td>\n",
       "      <td>本规程适用于中华人民共和国境内的铁路旅客运输。</td>\n",
       "    </tr>\n",
       "    <tr>\n",
       "      <th>8</th>\n",
       "      <td>《铁路旅客运输规程》适用的具体对象有哪些？</td>\n",
       "      <td>本规程适用于中华人民共和国境内的铁路旅客运输。</td>\n",
       "    </tr>\n",
       "    <tr>\n",
       "      <th>9</th>\n",
       "      <td>《铁路旅客运输规程》限制了谁的行为？</td>\n",
       "      <td>本规程适用于中华人民共和国境内的铁路旅客运输。</td>\n",
       "    </tr>\n",
       "    <tr>\n",
       "      <th>10</th>\n",
       "      <td>《铁路旅客运输规程》规定了哪些内容？</td>\n",
       "      <td>本规程适用于中华人民共和国境内的铁路旅客运输。</td>\n",
       "    </tr>\n",
       "    <tr>\n",
       "      <th>11</th>\n",
       "      <td>《铁路旅客运输规程》针对什么内容做了规定？</td>\n",
       "      <td>本规程适用于中华人民共和国境内的铁路旅客运输。</td>\n",
       "    </tr>\n",
       "    <tr>\n",
       "      <th>12</th>\n",
       "      <td>谁需要遵循《铁路旅客运输规程》中的相关规定？</td>\n",
       "      <td>本规程适用于中华人民共和国境内的铁路旅客运输。</td>\n",
       "    </tr>\n",
       "    <tr>\n",
       "      <th>13</th>\n",
       "      <td>《铁路旅客运输规程》对于谁有具体的约束作用？</td>\n",
       "      <td>本规程适用于中华人民共和国境内的铁路旅客运输。</td>\n",
       "    </tr>\n",
       "    <tr>\n",
       "      <th>14</th>\n",
       "      <td>《铁路旅客运输规程》的约束对象是谁？</td>\n",
       "      <td>本规程适用于中华人民共和国境内的铁路旅客运输。</td>\n",
       "    </tr>\n",
       "    <tr>\n",
       "      <th>15</th>\n",
       "      <td>《铁路旅客运输规程》的规定适用于哪些人或单位？</td>\n",
       "      <td>本规程适用于中华人民共和国境内的铁路旅客运输。</td>\n",
       "    </tr>\n",
       "    <tr>\n",
       "      <th>16</th>\n",
       "      <td>《铁路旅客运输规程》的规定面向谁？</td>\n",
       "      <td>本规程适用于中华人民共和国境内的铁路旅客运输。</td>\n",
       "    </tr>\n",
       "    <tr>\n",
       "      <th>17</th>\n",
       "      <td>在什么情况下需要遵守《铁路旅客运输规程》？</td>\n",
       "      <td>本规程适用于中华人民共和国境内的铁路旅客运输。</td>\n",
       "    </tr>\n",
       "    <tr>\n",
       "      <th>18</th>\n",
       "      <td>《铁路旅客运输规程》限制了哪些主体的行为？</td>\n",
       "      <td>本规程适用于中华人民共和国境内的铁路旅客运输。</td>\n",
       "    </tr>\n",
       "    <tr>\n",
       "      <th>19</th>\n",
       "      <td>谁受到《铁路旅客运输规程》的具体约束？</td>\n",
       "      <td>本规程适用于中华人民共和国境内的铁路旅客运输。</td>\n",
       "    </tr>\n",
       "  </tbody>\n",
       "</table>\n",
       "</div>"
      ],
      "text/plain": [
       "                      Question                  Summary\n",
       "0             铁路旅客运输规程适用于哪些范围？  本规程适用于中华人民共和国境内的铁路旅客运输。\n",
       "1        《铁路旅客运输规程》规定了哪些对象应遵守？  本规程适用于中华人民共和国境内的铁路旅客运输。\n",
       "2     《铁路旅客运输规程》适用于铁路运输中的哪些方面？  本规程适用于中华人民共和国境内的铁路旅客运输。\n",
       "3         谁需要遵守《铁路旅客运输规程》中的要求？  本规程适用于中华人民共和国境内的铁路旅客运输。\n",
       "4       《铁路旅客运输规程》对于哪些情况有具体规定？  本规程适用于中华人民共和国境内的铁路旅客运输。\n",
       "5   《铁路旅客运输规程》对于哪些铁路运输环节有规定要求？  本规程适用于中华人民共和国境内的铁路旅客运输。\n",
       "6        《铁路旅客运输规程》适用于铁路运输中的谁？  本规程适用于中华人民共和国境内的铁路旅客运输。\n",
       "7           《铁路旅客运输规程》中的规定面向谁？  本规程适用于中华人民共和国境内的铁路旅客运输。\n",
       "8        《铁路旅客运输规程》适用的具体对象有哪些？  本规程适用于中华人民共和国境内的铁路旅客运输。\n",
       "9           《铁路旅客运输规程》限制了谁的行为？  本规程适用于中华人民共和国境内的铁路旅客运输。\n",
       "10          《铁路旅客运输规程》规定了哪些内容？  本规程适用于中华人民共和国境内的铁路旅客运输。\n",
       "11       《铁路旅客运输规程》针对什么内容做了规定？  本规程适用于中华人民共和国境内的铁路旅客运输。\n",
       "12      谁需要遵循《铁路旅客运输规程》中的相关规定？  本规程适用于中华人民共和国境内的铁路旅客运输。\n",
       "13      《铁路旅客运输规程》对于谁有具体的约束作用？  本规程适用于中华人民共和国境内的铁路旅客运输。\n",
       "14          《铁路旅客运输规程》的约束对象是谁？  本规程适用于中华人民共和国境内的铁路旅客运输。\n",
       "15     《铁路旅客运输规程》的规定适用于哪些人或单位？  本规程适用于中华人民共和国境内的铁路旅客运输。\n",
       "16           《铁路旅客运输规程》的规定面向谁？  本规程适用于中华人民共和国境内的铁路旅客运输。\n",
       "17       在什么情况下需要遵守《铁路旅客运输规程》？  本规程适用于中华人民共和国境内的铁路旅客运输。\n",
       "18       《铁路旅客运输规程》限制了哪些主体的行为？  本规程适用于中华人民共和国境内的铁路旅客运输。\n",
       "19         谁受到《铁路旅客运输规程》的具体约束？  本规程适用于中华人民共和国境内的铁路旅客运输。"
      ]
     },
     "execution_count": 117,
     "metadata": {},
     "output_type": "execute_result"
    }
   ],
   "source": [
    "df"
   ]
  },
  {
   "cell_type": "code",
   "execution_count": 130,
   "id": "f42fb0cf-9566-4f25-b2a1-c234729254e6",
   "metadata": {},
   "outputs": [],
   "source": [
    "import csv\n",
    "import datetime\n",
    "import os\n",
    "\n",
    "def main():\n",
    "    # 确保 data 目录存在\n",
    "    if not os.path.exists('./data'):\n",
    "        os.makedirs('./data')\n",
    "\n",
    "    # 解析 data/raw_data.txt 得到 raw_content_data 列表\n",
    "    raw_content_data = [] \n",
    "    with open('./data/lvke.txt', 'r', encoding='utf-8') as file:\n",
    "        content = file.read()\n",
    "        data_samples = content.split('\\n\\n')\n",
    "        for sample in data_samples:\n",
    "            cleaned_sample = sample.strip()\n",
    "            if cleaned_sample:\n",
    "                raw_content_data.append(cleaned_sample)\n",
    "\n",
    "    # 创建带有时间戳的CSV文件名\n",
    "    timestamp = datetime.datetime.now().strftime(\"%Y%m%d_%H%M%S\")\n",
    "    filename = f\"./data/lvkeyunshuguicheng_dataset_{timestamp}.csv\"\n",
    "\n",
    "    # 创建CSV文件并写入标题行\n",
    "    with open(filename, mode='w', newline='', encoding='utf-8') as file:\n",
    "        writer = csv.writer(file)\n",
    "        writer.writerow(['content', 'summary'])\n",
    "\n",
    "        # 循环遍历 raw_content_data 数据样例\n",
    "        for raw_content in raw_content_data:\n",
    "            # 调用 gen_data 方法得到 ai_message_content\n",
    "            ai_message_content = gen_data(raw_content)\n",
    "\n",
    "            # 解析 ai_message_content 得到 content 和 summary\n",
    "            content, summary = dataset_parser(ai_message_content)\n",
    "            \n",
    "            print(\"Content:\", content)\n",
    "            print(\"Summary:\", summary)\n",
    "\n",
    "            # 调用 generate_question_summary_pairs 得到20组 pairs\n",
    "            pairs = generate_question_summary_pairs(content, summary)\n",
    "\n",
    "            # 将 pairs 写入 csv 文件\n",
    "            for pair in pairs:\n",
    "                writer.writerow(pair)"
   ]
  },
  {
   "cell_type": "code",
   "execution_count": 132,
   "id": "cc70c9fd-0456-4b14-a94b-a4f1faacc1aa",
   "metadata": {},
   "outputs": [
    {
     "name": "stderr",
     "output_type": "stream",
     "text": [
      "WARNING! top_p is not default parameter.\n",
      "                    top_p was transferred to model_kwargs.\n",
      "                    Please confirm that top_p is what you intended.\n",
      "WARNING! frequency_penalty is not default parameter.\n",
      "                    frequency_penalty was transferred to model_kwargs.\n",
      "                    Please confirm that frequency_penalty is what you intended.\n",
      "WARNING! presence_penalty is not default parameter.\n",
      "                    presence_penalty was transferred to model_kwargs.\n",
      "                    Please confirm that presence_penalty is what you intended.\n"
     ]
    },
    {
     "name": "stdout",
     "output_type": "stream",
     "text": [
      "Content:  \"为什么要制定铁路旅客运输规程？\n",
      "Summary:  \"为了维护铁路旅客运输正常秩序，规范旅客和铁路运输企业的行为，保护旅客和铁路运输企业的合法权益，完善公平公正的旅客运输市场环境，根据《中华人民共和国民法典》《中华人民共和国消费者权益保护法》《中华人民共和国铁路法》《铁路安全管理条例》等法律、行政法规，制定本规程。\n"
     ]
    },
    {
     "name": "stderr",
     "output_type": "stream",
     "text": [
      "WARNING! top_p is not default parameter.\n",
      "                    top_p was transferred to model_kwargs.\n",
      "                    Please confirm that top_p is what you intended.\n",
      "WARNING! frequency_penalty is not default parameter.\n",
      "                    frequency_penalty was transferred to model_kwargs.\n",
      "                    Please confirm that frequency_penalty is what you intended.\n",
      "WARNING! presence_penalty is not default parameter.\n",
      "                    presence_penalty was transferred to model_kwargs.\n",
      "                    Please confirm that presence_penalty is what you intended.\n"
     ]
    },
    {
     "name": "stdout",
     "output_type": "stream",
     "text": [
      "Content:  \"《铁路旅客运输规程》适用于哪些范围？\n",
      "Summary:  \"本规程适用于中华人民共和国境内的铁路旅客运输。\n"
     ]
    },
    {
     "name": "stderr",
     "output_type": "stream",
     "text": [
      "WARNING! top_p is not default parameter.\n",
      "                    top_p was transferred to model_kwargs.\n",
      "                    Please confirm that top_p is what you intended.\n",
      "WARNING! frequency_penalty is not default parameter.\n",
      "                    frequency_penalty was transferred to model_kwargs.\n",
      "                    Please confirm that frequency_penalty is what you intended.\n",
      "WARNING! presence_penalty is not default parameter.\n",
      "                    presence_penalty was transferred to model_kwargs.\n",
      "                    Please confirm that presence_penalty is what you intended.\n"
     ]
    },
    {
     "name": "stdout",
     "output_type": "stream",
     "text": [
      "Content:  \"铁路运输企业应当根据哪些文件制定旅客运输相关办法？\n",
      "Summary:  \"铁路运输企业应当根据法律、行政法规和本规程制定旅客运输相关办法，包括购票、退票、改签，旅客乘车、随身携带物品和托运行李相关规定等事项，并在实施前向社会公布。\n"
     ]
    },
    {
     "ename": "IndexError",
     "evalue": "list index out of range",
     "output_type": "error",
     "traceback": [
      "\u001b[0;31m---------------------------------------------------------------------------\u001b[0m",
      "\u001b[0;31mIndexError\u001b[0m                                Traceback (most recent call last)",
      "Cell \u001b[0;32mIn[132], line 1\u001b[0m\n\u001b[0;32m----> 1\u001b[0m \u001b[43mmain\u001b[49m\u001b[43m(\u001b[49m\u001b[43m)\u001b[49m\n",
      "Cell \u001b[0;32mIn[130], line 35\u001b[0m, in \u001b[0;36mmain\u001b[0;34m()\u001b[0m\n\u001b[1;32m     32\u001b[0m ai_message_content \u001b[38;5;241m=\u001b[39m gen_data(raw_content)\n\u001b[1;32m     34\u001b[0m \u001b[38;5;66;03m# 解析 ai_message_content 得到 content 和 summary\u001b[39;00m\n\u001b[0;32m---> 35\u001b[0m content, summary \u001b[38;5;241m=\u001b[39m \u001b[43mdataset_parser\u001b[49m\u001b[43m(\u001b[49m\u001b[43mai_message_content\u001b[49m\u001b[43m)\u001b[49m\n\u001b[1;32m     37\u001b[0m \u001b[38;5;28mprint\u001b[39m(\u001b[38;5;124m\"\u001b[39m\u001b[38;5;124mContent:\u001b[39m\u001b[38;5;124m\"\u001b[39m, content)\n\u001b[1;32m     38\u001b[0m \u001b[38;5;28mprint\u001b[39m(\u001b[38;5;124m\"\u001b[39m\u001b[38;5;124mSummary:\u001b[39m\u001b[38;5;124m\"\u001b[39m, summary)\n",
      "Cell \u001b[0;32mIn[78], line 12\u001b[0m, in \u001b[0;36mdataset_parser\u001b[0;34m(ai_message_content)\u001b[0m\n\u001b[1;32m      9\u001b[0m parts \u001b[38;5;241m=\u001b[39m ai_message_content\u001b[38;5;241m.\u001b[39msplit(\u001b[38;5;124m'\u001b[39m\u001b[38;5;130;01m\\n\u001b[39;00m\u001b[38;5;124m'\u001b[39m)\n\u001b[1;32m     11\u001b[0m \u001b[38;5;66;03m# 提取content和summary\u001b[39;00m\n\u001b[0;32m---> 12\u001b[0m content \u001b[38;5;241m=\u001b[39m \u001b[43mparts\u001b[49m\u001b[43m[\u001b[49m\u001b[38;5;241;43m0\u001b[39;49m\u001b[43m]\u001b[49m\u001b[38;5;241;43m.\u001b[39;49m\u001b[43msplit\u001b[49m\u001b[43m(\u001b[49m\u001b[38;5;124;43m'\u001b[39;49m\u001b[38;5;124;43m:\u001b[39;49m\u001b[38;5;124;43m'\u001b[39;49m\u001b[43m,\u001b[49m\u001b[43m \u001b[49m\u001b[38;5;241;43m1\u001b[39;49m\u001b[43m)\u001b[49m\u001b[43m[\u001b[49m\u001b[38;5;241;43m1\u001b[39;49m\u001b[43m]\u001b[49m\u001b[38;5;241m.\u001b[39mstrip(\u001b[38;5;124m'\u001b[39m\u001b[38;5;124m\"\u001b[39m\u001b[38;5;124m'\u001b[39m)\n\u001b[1;32m     13\u001b[0m summary \u001b[38;5;241m=\u001b[39m parts[\u001b[38;5;241m1\u001b[39m]\u001b[38;5;241m.\u001b[39msplit(\u001b[38;5;124m'\u001b[39m\u001b[38;5;124m:\u001b[39m\u001b[38;5;124m'\u001b[39m, \u001b[38;5;241m1\u001b[39m)[\u001b[38;5;241m1\u001b[39m]\u001b[38;5;241m.\u001b[39mstrip(\u001b[38;5;124m'\u001b[39m\u001b[38;5;124m\"\u001b[39m\u001b[38;5;124m'\u001b[39m)\n\u001b[1;32m     15\u001b[0m \u001b[38;5;28;01mreturn\u001b[39;00m content, summary\n",
      "\u001b[0;31mIndexError\u001b[0m: list index out of range"
     ]
    }
   ],
   "source": [
    "main()"
   ]
  },
  {
   "cell_type": "code",
   "execution_count": 144,
   "id": "0be7b2cf-b4d3-4f16-9ba8-3f68667746ec",
   "metadata": {},
   "outputs": [
    {
     "name": "stdout",
     "output_type": "stream",
     "text": [
      "content: \"《铁路旅客运输规程》的制定依据是什么？\"\n",
      "summary: \"《铁路旅客运输规程》的制定依据是为了维护铁路旅客运输正常秩序，规范旅客和铁路运输企业的行为，保护旅客和铁路运输企业的合法权益，完善公平公正的旅客运输市场环境，根据《中华人民共和国民法典》《中华人民共和国消费者权益保护法》《中华人民共和国铁路法》《铁路安全管理条例》等法律、行政法规，制定本规程。\"\n",
      "content: \"《铁路旅客运输规程》适用于哪些范围？\"\n",
      "summary: \"本规程适用于中华人民共和国境内的铁路旅客运输。\"\n",
      "content: \"铁路运输企业应当根据什么制定旅客运输相关办法？\"\n",
      "summary: \"铁路运输企业应当根据法律、行政法规和本规程制定旅客运输相关办法，包括购票、退票、改签，旅客乘车、随身携带物品和托运行李相关规定等事项，并在实施前向社会公布。\"\n",
      "content:\"车票是铁路旅客运输合同的凭证吗？\"\n",
      "summary:\"是的，车票是铁路旅客运输合同的凭证。\"\n",
      "\n",
      "content:\"车票可以采用什么形式？\"\n",
      "summary:\"车票可以采用纸质形式或者电子数据形式。\"\n",
      "\n",
      "content:\"车票一般应当载明哪些主要信息？\"\n",
      "summary:\"一般应当载明发站、到站、车次、车厢号、席别、席位号、票价、开车时间等主要信息。\"\n",
      "\n",
      "content:\"铁路运输企业与旅客另有约定时，应当按照怎样执行？\"\n",
      "summary:\"铁路运输企业与旅客另有约定时，应当按照其约定执行。\"\n",
      "content: \"铁路运输企业应当提供哪些服务？\"\n",
      "summary: \"铁路运输企业应当提供方便快捷的票务服务，为旅客提供良好的旅行环境和服务设施，文明礼貌地为旅客服务，在约定期限或者合理期限内将旅客安全运输到车票载明的到站。\"\n",
      "content:\"旅客在乘坐火车时需要遵守哪些规定？\"\n",
      "summary:\"旅客应当遵守法律、行政法规、规章和有关铁路运输安全规定，配合铁路工作人员的引导，爱护铁路设备设施，不得扰乱铁路运输秩序。\"\n",
      "content: \"旅客有哪些权利？\"\n",
      "summary: \"旅客享有自主选择旅客运输服务和公平交易的权利。铁路运输企业不得限定、强制旅客使用某项服务或者搭售商品。\"\n",
      "content:\"铁路运输企业需要公布哪些信息？\"\n",
      "summary:\"铁路运输企业应当公布车站运营时间、停止检票时间、服务项目及收费标准、旅客禁止或者限制携带物品目录等信息。\"\n",
      "content：\"铁路运输企业需要按照哪些规定实施车票实名制管理？\"\n",
      "summary：\"铁路运输企业应当按照《中华人民共和国反恐怖主义法》《铁路安全管理条例》《铁路旅客车票实名制管理办法》等规定，实施车票实名制管理。\"\n",
      "content:\"购票人需要向铁路运输企业提供哪些信息？\"\n",
      "summary:\"购票人应当向铁路运输企业提供乘车人真实有效的联系方式。\"\n",
      "\n",
      "content:\"铁路运输企业在车票销售过程中需要如何处理旅客信息？\"\n",
      "summary:\"铁路运输企业对车票销售过程中知悉的旅客信息，应当予以保密，不得泄露、出售或者非法向他人提供。\"\n",
      "content:\"铁路运输企业应当如何销售车票？\"\n",
      "summary:\"铁路运输企业应当公平销售车票，保留人工售票服务，并鼓励为旅客提供多种售票渠道，如互联网、自动售票机等，以及开办定期票、计次票、联程票、乘车卡等业务，为旅客提供多元化的服务。\"\n",
      "content:\"在铁路旅客运输规程中，对未成年儿童的乘车规定是什么？\"\n",
      "summary:\"根据铁路旅客运输规程，实行车票实名制的未满14周岁或者身高不足1.5米的儿童应当随同成年人旅客旅行。实行车票实名制时，年满6周岁且未满14周岁的儿童应当购买儿童优惠票；年满14周岁的儿童应当购买全价票。未实行车票实名制时，身高1.2米且不足1.5米的儿童应当购买儿童优惠票；身高达到1.5米的儿童应当购买全价票。每一名持票成年人旅客可以免费携带一名未满6周岁且不单独占用席位的儿童乘车。儿童优惠票的车次、席别应当与同行成年人所持车票相同，到站不得远于成年人车票的到站。\"\n",
      "      \n",
      "content: \"旅客携带免费乘车儿童需要注意哪些事项？\"\n",
      "summary: \"旅客携带免费乘车儿童时，应当提前告知铁路运输企业，铁路运输企业应当为免费乘车儿童出具乘车凭证。实行车票实名制的，免费乘车儿童检票和乘车时需要提供有效身份证件。\"\n",
      "content: \"什么是学生优惠票？\"\n",
      "summary: \"学生优惠票是指在全日制高等学校，承担研究生教育任务的科研机构，军事院校，普通中、小学和中等职业学校就读的学生、研究生，购买家庭居住地至院校所在地之间四次单程的学生优惠票。新生凭录取通知书、毕业生凭学校的书面证明可以购买一次学生优惠票。学生优惠票限于使用普通旅客列车硬席或者动车组列车二等座。学生证应当附有国务院教育行政部门认可的优惠乘车凭证，需载明学生照片、姓名、身份证件号码、优惠乘车区间、院校公章等信息。\"\n",
      "\n",
      "content: \"学生证上的优惠乘车凭证需要包含哪些信息？\"\n",
      "summary: \"学生证上的优惠乘车凭证需要包括学生照片、姓名、有效身份证件号码、优惠乘车区间、院校公章等信息。学生证优惠乘车区间的记录、变更需要加盖院校公章。\"\n",
      "\n",
      "content: \"华侨学生、港澳台学生的优惠乘车区间是指什么？\"\n",
      "summary: \"华侨学生、港澳台学生的优惠乘车区间为口岸车站至学校所在地车站。\"\n",
      "content:\"哪些证件可以购买优待票？\"\n",
      "summary:\"持中华人民共和国残疾军人证、中华人民共和国伤残人民警察证、国家综合性消防救援队伍残疾人员证的人员凭证可以购买优待票。\"\n",
      "content: \"旅客丢失实名制车票后，应该怎么办？\"\n",
      "summary: \"旅客丢失实名制车票后，可以向铁路运输企业申请办理车票挂失补办手续，铁路运输企业不得重复收取票款和其他不合理费用。\"\n",
      "\n",
      "content: \"旅客丢失非实名制车票该怎么处理？\"\n",
      "summary: \"旅客丢失非实名制车票应当另行购票乘车。\"\n",
      "content:\"铁路运输企业对旅客及其随身携带物品应当进行怎样的安全检查？\"\n",
      "summary:\"铁路运输企业应当按照《中华人民共和国反恐怖主义法》《铁路安全管理条例》《铁路旅客运输安全检查管理办法》等规定，对旅客及其随身携带物品进行安全检查。旅客随身携带物品应当遵守国家禁止或者限制运输的相关规定。\"\n",
      "content:\"铁路运输企业应当明确旅客随身携带物品的哪些规定？\"\n",
      "summary:\"铁路运输企业应当明确旅客随身携带物品的规定，包括随身携带物品总重量限额、每件物品的重量及尺寸限定、免费携带物品的重量、超限携带物品计费标准、特殊携带物品的相关规定以及因铁路运输企业责任导致携带物品损坏、丢失的赔偿标准或者所适用的国家有关规定。\"\n",
      "content:\"铁路运输企业需要在哪些地方设置设备设施？\"\n",
      "summary:\"铁路运输企业应当在车站、旅客列车等公共场所设置安全标志、导向系统和信息服务系统等设备设施。\"\n",
      "content:\"铁路运输企业应当如何按照车票信息运输旅客？\"\n",
      "summary:\"铁路运输企业应当按照有效车票记载的时间、车次、车厢号、席别和席位号运输旅客；旅客应当按照有效车票载明的时间、车次、车厢号、席别和席位号乘车。\"\n",
      "content: \"军人和其家属在购票和乘车方面享有哪些优待政策？\"\n",
      "summary: \"根据《中华人民共和国军人地位和权益保障法》《军人抚恤优待条例》等规定，铁路运输企业应当为现役军人、残疾军人，烈士、因公牺牲军人和病故军人的遗属，消防救援人员，以及与其随同出行的家属提供优先购票、优先乘车等服务。\"\n",
      "content: \"铁路运输企业应当为哪些旅客提供优先购票、优先乘车等服务？\"\n",
      "summary: \"铁路运输企业应当为老幼病残孕旅客提供优先购票、优先乘车等服务，为老年人和其他需要帮助的旅客提供必要的人工服务。\"\n",
      "        \n",
      "content: \"视力残疾旅客可以携带什么进站乘车？\"\n",
      "summary: \"视力残疾旅客可以携带导盲犬进站乘车。\"\n",
      "content:\"铁路运输企业对服务备品有哪些要求？\"\n",
      "summary:\"铁路运输企业应当提供齐全、干净、整洁的服务备品。车站、旅客列车等公共场所应当内外整洁、空气清新。\"\n",
      "content:\"铁路运输企业对餐饮服务有哪些要求？\"\n",
      "summary:\"铁路运输企业应当提供符合食品安全标准的餐饮服务，不得销售不符合食品安全标准的食品和不合格产品。车站内和列车上提供的商品及服务应当做到明码标价、质价相符、信息描述规范。\"\n",
      "\n",
      "content:\"旅客需要接受铁路运输企业对乘车相关凭证进行的核验吗？\"\n",
      "summary:\"是的，旅客应当接受铁路运输企业对乘车相关凭证进行的必要核验。购买优惠票、优待票的旅客需要凭相应证件乘车。\"\n",
      "\n",
      "content:\"购买优惠票、优待票的旅客需要凭什么乘车？\"\n",
      "summary:\"购买优惠票、优待票的旅客需要凭相应证件乘车。\"\n",
      "content:\"铁路运输企业在什么情况下应当补收票款？\"\n",
      "summary:\"铁路运输企业发现主动补票或者经车站、旅客列车同意上车补票的情形、应当购买儿童优惠票而未购票乘车的情形、以及应当购买全价票而使用儿童优惠票乘车的情形时，均应当补收票款。\"\n",
      "\n",
      "content:\"在补收票款时是否需要收取手续费？\"\n",
      "summary:\"在补收票款时如果需要收取手续费，应当按照有关铁路旅客运输杂费的规定办理。\"\n",
      "content: \"在哪些情形下，铁路运输企业需要补收车票款？\"\n",
      "summary: \"铁路运输企业需要补收车票款的情形包括：无票乘车未主动补票、在车票到站不下车并继续乘车、持低等级席位的车票乘坐高等级席位以及持不符合减价条件的优惠、优待车票乘车。铁路运输企业可以加收50%已乘区间应补票款，并按照有关铁路旅客运输杂费的规定收取手续费。\"\n",
      "content: \"铁路运输企业发现哪些行为需要报告公安机关？\"\n",
      "summary: \"铁路运输企业发现变造、伪造车票或者证件乘车，霸座或者其他扰乱秩序的行为需要及时报告公安机关。\"\n",
      "```json\n",
      "{\n",
      "  \"content\": \"铁路运输企业可以拒绝运输哪些旅客？\",\n",
      "  \"summary\": \"铁路运输企业可以拒绝运输以下旅客：（一）有本规程第二十七条第一款规定的情形之一，拒不支付应补票款、加收票款的；（二）不接受安全检查的；（三）购买实名制车票但不接受身份信息核验，或者车票所记载身份信息与所持身份证件或者真实身份不符的；（四）按照《中华人民共和国传染病防治法》等传染病防治的法律、行政法规和国家有关规定，应当实施隔离管理的；（五）扰乱车站、列车秩序，严重精神障碍和醉酒等有可能危及列车安全或者其他旅客以及铁路运输企业工作人员人身安全的；（六）国家规定的其他情况。旅客不听从铁路运输企业工作人员劝阻，坚持携带或者夹带危险物品或者违禁物品的，铁路运输企业应当拒绝运输。对涉嫌违反治安管理的行为应当及时报告公安机关。\"\n",
      "}\n",
      "```\n",
      "content: \"旅客因自身原因不能按车票上的信息乘车时，有什么规定？\"\n",
      "summary: \"当旅客因自身原因不能按车票记载的时间、车次、车厢号、席别和席位号乘车，或者按照本规程规定被拒绝运输时，旅客可以要求办理退票或者改签，铁路运输企业和旅客应当按照约定办理。\"\n",
      "\n",
      "content: \"旅客要求办理退票或者改签时，铁路运输企业和旅客应当怎么处理？\"\n",
      "summary: \"旅客要求办理退票或者改签时，铁路运输企业和旅客应当按照约定办理。\"\n",
      "content:\"遇到不能正常运输情形时，铁路运输企业应当如何处理？\"\n",
      "summary:\"因铁路运输企业原因或者自然灾害等其他不能正常运输情形导致旅客不能按车票记载的时间、车次、车厢号、席别和席位号乘车时，铁路运输企业应当按照旅客的要求办理退票或者改由其他车次或者席位运送旅客。重新安排的席位票价高于原票价时，超过部分不予补收；低于原票价时，应当退还票价差额。对前款规定的情形，铁路运输企业不得收取退票费。\"\n",
      "content:\"旅客办理退票、申请退款后，铁路运输企业应当在多长时间内办理完成退款手续？\"\n",
      "summary:\"铁路运输企业应当在7个工作日内办理完成退款手续，上述时间不含金融机构处理时间和旅客自身原因导致的时间延误。\"\n",
      "content:\"什么是行李票？\"\n",
      "summary:\"行李票是铁路行李运输合同的凭证，应当载明车票票号、发站、到站、包装、件数、重量、费用、承运时间及旅客的姓名、地址、联系电话等主要信息。铁路运输企业与旅客另有约定的，按照其约定。\"\n",
      "\n",
      "content:\"行李票应当包括哪些信息？\"\n",
      "summary:\"行李票应当载明车票票号、发站、到站、包装、件数、重量、费用、承运时间及旅客的姓名、地址、联系电话等主要信息。\"\n",
      "content:\"旅客如何托运行李？\"\n",
      "summary:\"旅客凭有效车票、身份证件可以在行李办理站间托运行李，行李票和车票的发到城市应当保持一致。\"\n",
      "content: \"铁路运输企业应当明确旅客托运行李的哪些规定？\"\n",
      "summary: \"铁路运输企业应当明确旅客托运行李的规定，至少包括托运行李总重量限额、每件行李的重量及尺寸限定、超限行李计费方式、是否提供声明价值服务、特殊行李运输的相关规定以及行李损坏、丢失、延误的赔偿标准或者所适用的国家有关规定。\"\n",
      "content: \"铁路运输企业对旅客托运的行李有哪些安全检查管理规定？\"\n",
      "summary: \"铁路运输企业应当按照《中华人民共和国反恐怖主义法》《铁路安全管理条例》《铁路旅客运输安全检查管理办法》等规定，对旅客托运的行李进行安全检查。旅客托运行李应当遵守国家禁止运输或者限制运输的相关规定，不得夹带货币、珍贵文物、金银珠宝、档案材料、证书证件等贵重物品。铁路运输企业在承运行李时或者运输过程中，发现行李中装有不得作为行李运输的任何物品，应当拒绝承运或者终止运输，并通知旅客处理。\"\n",
      "content: \"行李的包装应当如何？\"\n",
      "summary: \"行李的包装应当完整牢固、适合运输，包装材料和方式符合国家规定的包装标准和条件。\"\n",
      "content:\"行李应当如何运输？\"\n",
      "summary:\"行李应当随旅客所乘列车或者就近列车运送，如遇特殊情况的，铁路运输企业应当向旅客作出说明。\"\n",
      "content: \"铁路运输企业有哪些责任？\"\n",
      "summary: \"铁路运输企业应当为旅客办理行李托运变更手续提供便利条件。\"\n",
      "content:\"铁路运输企业在行李方面有哪些责任？\"\n",
      "summary:\"铁路运输企业应当及时通知旅客领取到达的行李。行李从运到日起，铁路运输企业应当至少免费保管3日；逾期到达的行李应当至少免费保管10日。因行李损失或者不可抗力等原因应当适当增加免费保管日数。对时限有约定的，按照其约定。\"\n",
      "content: \"行李在铁路运输过程中发生损坏、丢失或者延误时，旅客应该怎么做？\"\n",
      "summary: \"旅客要求出具行李运输损失凭证的，铁路运输企业应当及时提供。\"\n",
      "content: \"铁路运输企业应当如何对自然灾害、恶劣天气、设备设施故障以及安全事故等情形做好预案和准备？\"\n",
      "summary: \"铁路运输企业应当针对自然灾害、恶劣天气、设备设施故障以及安全事故等对旅客出行产生重大影响的情形，依法制定相应的应急预案，配备必要的应急物品，并定期组织演练。\"\n",
      "content: \"线路中断、列车不能继续运行时，铁路运输企业应当如何处理？\"\n",
      "summary: \"铁路运输企业应当妥善安排受阻旅客，并及时公告铁路旅客运输相关业务停办、恢复等信息。因线路中断影响旅行，旅客要求出具证明的，铁路运输企业应当及时提供。\"\n",
      "content: \"线路中断后，铁路运输企业的责任是什么？\"\n",
      "summary: \"铁路运输企业应当妥善保管承运的行李，并及时通知旅客，与旅客协商处理方案。\"\n",
      "content: \"旅客急病、分娩、遇险时，铁路运输企业应当采取怎样的措施？\"\n",
      "summary: \"铁路运输企业应当积极采取救助措施并做好记录。\"\n",
      "\n",
      "content: \"铁路运输企业在公安机关开展调查、侦查时应当做些什么？\"\n",
      "summary: \"铁路运输企业应当配合公安机关开展工作，协助收集相关证据、调查事件发生原因。\"\n",
      "content: \"铁路运输企业对旅客在运输过程中的人身伤亡和财产损失承担怎样的责任？\"\n",
      "summary: \"铁路运输企业对运输过程中旅客的人身伤亡和财产损失，依法承担民事责任。\"\n",
      "```json\n",
      "{\n",
      "  \"content\": \"旅客有哪些权利可以在铁路旅客运输服务质量问题上进行投诉？投诉应当如何进行？\",\n",
      "  \"summary\": \"旅客有权就铁路旅客运输服务质量问题向铁路运输企业投诉，也可以向铁路监管部门投诉。铁路运输企业应当建立旅客运输投诉处理机制，设立电话、网络、信件等投诉渠道并对外公布，配备必要的投诉处理人员并保证投诉渠道畅通，运行良好。\"\n",
      "}\n",
      "```\n",
      "- content: \"铁路运输企业在收到旅客投诉后需要多久进行答复？\"\n",
      "  summary: \"铁路运输企业应当在收到旅客投诉后3个工作日内答复受理情况，10个工作日内告知实质性处理结果；不予受理的，应当说明理由。\"\n",
      "\n",
      "- content: \"铁路运输企业需要保存旅客的投诉记录多久？\"\n",
      "  summary: \"铁路运输企业应当记录旅客的投诉情况及处理结果，投诉记录至少保存3年。\"\n",
      "\n",
      "content:\"铁路运输企业对旅客提出的服务改进意见建议应当如何处理？\"\n",
      "summary:\"铁路运输企业应当认真研究旅客提出的服务改进意见建议，必要时主动沟通并作出答复。\"\n",
      "content: \"铁路运输企业应当如何处理铁路营业站及营业线的启用、封闭和业务范围变更？\"\n",
      "summary: \"铁路运输企业应当公告铁路营业站及营业线的启用、封闭和业务范围的变更。\"\n",
      "content: \"铁路运输企业办理包裹运输业务时要遵循哪些规定？\"\n",
      "summary: \"铁路运输企业利用旅客列车办理包裹运输业务的，参照本规程行李运输有关规定执行。\"\n",
      "content:\"铁路旅客运输规程从什么时间开始施行？\"\n",
      "summary:\"本规程自2023年1月1日起施行。\"\n"
     ]
    }
   ],
   "source": [
    "# 确保 data 目录存在\n",
    "if not os.path.exists('./data'):\n",
    "    os.makedirs('./data')\n",
    "\n",
    "# 解析 data/raw_data.txt 得到 raw_content_data 列表\n",
    "raw_content_data = []\n",
    "with open('./data/lvke.txt', 'r', encoding='utf-8') as file:\n",
    "    content = file.read()\n",
    "    data_samples = content.split('\\n\\n')\n",
    "    for sample in data_samples:\n",
    "        cleaned_sample = sample.strip()\n",
    "        if cleaned_sample:\n",
    "            raw_content_data.append(cleaned_sample)\n",
    "\n",
    "# 创建带有时间戳的CSV文件名\n",
    "timestamp = datetime.datetime.now().strftime(\"%Y%m%d_%H%M%S\")\n",
    "filename = f\"./data/lvkeyunshuguicheng_dataset_{timestamp}.csv\"\n",
    "\n",
    "# 创建CSV文件并写入标题行\n",
    "with open(filename, mode='w', newline='', encoding='utf-8') as file:\n",
    "    writer = csv.writer(file)\n",
    "    writer.writerow(['content', 'summary'])\n",
    "    # 循环遍历 raw_content_data 数据样例\n",
    "    for raw_content in raw_content_data:\n",
    "        # 调用 gen_data 方法得到 ai_message_content\n",
    "        ai_message_content = gen_data(raw_content)\n",
    "        print(ai_message_content)"
   ]
  },
  {
   "cell_type": "code",
   "execution_count": null,
   "id": "a249b996-01b9-402a-8163-a466f9a1958c",
   "metadata": {},
   "outputs": [],
   "source": []
  }
 ],
 "metadata": {
  "kernelspec": {
   "display_name": "llm4",
   "language": "python",
   "name": "llm4"
  },
  "language_info": {
   "codemirror_mode": {
    "name": "ipython",
    "version": 3
   },
   "file_extension": ".py",
   "mimetype": "text/x-python",
   "name": "python",
   "nbconvert_exporter": "python",
   "pygments_lexer": "ipython3",
   "version": "3.9.18"
  }
 },
 "nbformat": 4,
 "nbformat_minor": 5
}
